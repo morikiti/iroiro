{
 "cells": [
  {
   "cell_type": "markdown",
   "metadata": {},
   "source": [
    "# PCA（主成分分析）\n",
    "　特徴量を抽出することによって、データ内の特徴量を削減できる"
   ]
  },
  {
   "cell_type": "code",
   "execution_count": 5,
   "metadata": {},
   "outputs": [
    {
     "name": "stdout",
     "output_type": "stream",
     "text": [
      "[[-1.1717002  -1.1717002 ]\n",
      " [-0.65094455 -0.65094455]\n",
      " [ 0.39056673  0.39056673]\n",
      " [ 1.43207802  1.43207802]]\n",
      "[[-1.1717002  -1.1717002 ]\n",
      " [-0.65094455 -0.65094455]\n",
      " [ 0.39056673  0.39056673]\n",
      " [ 1.43207802  1.43207802]]\n"
     ]
    },
    {
     "data": {
      "text/plain": [
       "<Figure size 504x288 with 0 Axes>"
      ]
     },
     "metadata": {},
     "output_type": "display_data"
    }
   ],
   "source": [
    "import numpy as np\n",
    "from matplotlib import pyplot as plt\n",
    "from sklearn.decomposition import PCA \n",
    "from sklearn.preprocessing import StandardScaler\n",
    "\n",
    "#グラフ病がサイズを設定\n",
    "plt.figure(figsize=(7,4))\n",
    "\n",
    "data = np.array([[2,5],[3,7],[5,11],[7,15]])\n",
    "#標準化\n",
    "sc = StandardScaler()\n",
    "#標準化させる\n",
    "data = sc.fit_transform(data)\n",
    "print(data)\n",
    "\n",
    "#主成分分析（PCA)\n",
    "pca = PCA()\n",
    "pca.fit(data)\n",
    "print(data)\n"
   ]
  },
  {
   "cell_type": "code",
   "execution_count": 8,
   "metadata": {},
   "outputs": [
    {
     "name": "stdout",
     "output_type": "stream",
     "text": [
      "[[-1.65703431  0.        ]\n",
      " [-0.92057462  0.        ]\n",
      " [ 0.55234477  0.        ]\n",
      " [ 2.02526416  0.        ]]\n",
      "[-1.65703431 -0.92057462  0.55234477  2.02526416]\n",
      "[0. 0. 0. 0.]\n"
     ]
    },
    {
     "data": {
      "image/png": "[encoded data removed]",
      "text/plain": [
       "<Figure size 432x288 with 1 Axes>"
      ]
     },
     "metadata": {
      "needs_background": "light"
     },
     "output_type": "display_data"
    }
   ],
   "source": [
    "\n",
    "#データを主成分に変換\n",
    "features = pca.transform(data)\n",
    "print(features)\n",
    "print(features[:,0])\n",
    "print(features[:,1])\n",
    "\n",
    "#PCAを行う前\n",
    "plt.scatter(data[:,0],data[:,1])\n",
    "plt.show()\n",
    "\n",
    "#主成分をプロットする\n",
    "plt.scatter(features[:,0],features[:,1])\n",
    "plt.title('principal componnent')\n",
    "plt.xlabel('Z1')\n",
    "plt.ylabel('Z2')\n",
    "plt.savefig('PCA_sample1')\n",
    "plt.show()"
   ]
  },
  {
   "cell_type": "code",
   "execution_count": 11,
   "metadata": {},
   "outputs": [
    {
     "name": "stdout",
     "output_type": "stream",
     "text": [
      "各次元の寄与率：[1.00000000e+00 2.89213502e-34]\n"
     ]
    },
    {
     "ename": "AttributeError",
     "evalue": "'PCA' object has no attribute 'explained_variance_raito_'",
     "output_type": "error",
     "traceback": [
      "\u001b[0;31m---------------------------------------------------------------------------\u001b[0m",
      "\u001b[0;31mAttributeError\u001b[0m                            Traceback (most recent call last)",
      "\u001b[0;32m/tmp/ipykernel_115397/3561490040.py\u001b[0m in \u001b[0;36m<module>\u001b[0;34m\u001b[0m\n\u001b[1;32m      1\u001b[0m \u001b[0mprint\u001b[0m\u001b[0;34m(\u001b[0m\u001b[0;34m'各次元の寄与率：{0}'\u001b[0m\u001b[0;34m.\u001b[0m\u001b[0mformat\u001b[0m\u001b[0;34m(\u001b[0m\u001b[0mpca\u001b[0m\u001b[0;34m.\u001b[0m\u001b[0mexplained_variance_ratio_\u001b[0m\u001b[0;34m)\u001b[0m\u001b[0;34m)\u001b[0m\u001b[0;34m\u001b[0m\u001b[0;34m\u001b[0m\u001b[0m\n\u001b[0;32m----> 2\u001b[0;31m \u001b[0mprint\u001b[0m\u001b[0;34m(\u001b[0m\u001b[0;34m'累積寄与率：{0}'\u001b[0m\u001b[0;34m.\u001b[0m\u001b[0mformat\u001b[0m\u001b[0;34m(\u001b[0m\u001b[0msum\u001b[0m\u001b[0;34m(\u001b[0m\u001b[0mpca\u001b[0m\u001b[0;34m.\u001b[0m\u001b[0mexplained_variance_raito_\u001b[0m\u001b[0;34m)\u001b[0m\u001b[0;34m)\u001b[0m\u001b[0;34m)\u001b[0m\u001b[0;34m\u001b[0m\u001b[0;34m\u001b[0m\u001b[0m\n\u001b[0m",
      "\u001b[0;31mAttributeError\u001b[0m: 'PCA' object has no attribute 'explained_variance_raito_'"
     ]
    }
   ],
   "source": [
    "print('各次元の寄与率：{0}'.format(pca.explained_variance_ratio_))\n",
    "print('累積寄与率：{0}'.format(sum(pca.explained_variance_ratio_)))"
   ]
  }
 ],
 "metadata": {
  "interpreter": {
   "hash": "4fb6d4786d6ba20ad0e4bc2be870871392251dd057e3655123e5afdf59ecc94f"
  },
  "kernelspec": {
   "display_name": "Python 3.8.11 ('base')",
   "language": "python",
   "name": "python3"
  },
  "language_info": {
   "codemirror_mode": {
    "name": "ipython",
    "version": 3
   },
   "file_extension": ".py",
   "mimetype": "text/x-python",
   "name": "python",
   "nbconvert_exporter": "python",
   "pygments_lexer": "ipython3",
   "version": "3.8.11"
  },
  "orig_nbformat": 4
 },
 "nbformat": 4,
 "nbformat_minor": 2
}
